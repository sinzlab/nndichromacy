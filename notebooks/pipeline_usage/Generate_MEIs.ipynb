{
 "cells": [
  {
   "cell_type": "markdown",
   "metadata": {},
   "source": [
    "# Generate MEIs for one Dataset"
   ]
  },
  {
   "cell_type": "code",
   "execution_count": 1,
   "metadata": {},
   "outputs": [
    {
     "name": "stdout",
     "output_type": "stream",
     "text": [
      "Connecting kwilleke@sinzlab.chlkmukhxp6i.eu-central-1.rds.amazonaws.com:3306\n"
     ]
    }
   ],
   "source": [
    "%load_ext autoreload\n",
    "%autoreload 2\n",
    "\n",
    "import datajoint as dj\n",
    "\n",
    "dj.config[\"enable_python_native_blobs\"] = True\n",
    "dj.config['schema_name'] = \"nnfabrik_color_mei\"\n",
    "schema = dj.schema(\"nnfabrik_color_mei\")\n",
    "\n",
    "from matplotlib import pyplot as plt\n",
    "from torch import load\n",
    "\n",
    "from nnfabrik.main import *\n",
    "import nnfabrik\n",
    "from nnfabrik import main, builder\n",
    "import os\n",
    "from os import listdir\n",
    "from os.path import isfile, join\n",
    "import torch\n",
    "import matplotlib.pyplot as plt\n",
    "import numpy as np\n",
    "from neuralpredictors.measures import corr\n",
    "\n",
    "from nndichromacy.tables.from_nnfabrik import TrainedModel\n",
    "from nndichromacy.tables.from_mei import MEI, MEIMethod, MEISeed, MEISelector, TrainedEnsembleModel"
   ]
  },
  {
   "cell_type": "markdown",
   "metadata": {},
   "source": [
    "# Select Dataset"
   ]
  },
  {
   "cell_type": "code",
   "execution_count": 7,
   "metadata": {},
   "outputs": [],
   "source": [
    "dataset_hash = 'd6048152f199d06e47cc7245a39bd671'\n",
    "key = dict(dataset_hash=dataset_hash)"
   ]
  },
  {
   "cell_type": "markdown",
   "metadata": {},
   "source": [
    "# Creating the ensemble"
   ]
  },
  {
   "cell_type": "markdown",
   "metadata": {},
   "source": [
    "#### Make sure there are only 5 models trained on that dataset. If there are more, add restrictions"
   ]
  },
  {
   "cell_type": "code",
   "execution_count": 5,
   "metadata": {},
   "outputs": [
    {
     "data": {
      "text/html": [
       "\n",
       "        \n",
       "        <style type=\"text/css\">\n",
       "            .Relation{\n",
       "                border-collapse:collapse;\n",
       "            }\n",
       "            .Relation th{\n",
       "                background: #A0A0A0; color: #ffffff; padding:4px; border:#f0e0e0 1px solid;\n",
       "                font-weight: normal; font-family: monospace; font-size: 100%;\n",
       "            }\n",
       "            .Relation td{\n",
       "                padding:4px; border:#f0e0e0 1px solid; font-size:100%;\n",
       "            }\n",
       "            .Relation tr:nth-child(odd){\n",
       "                background: #ffffff;\n",
       "            }\n",
       "            .Relation tr:nth-child(even){\n",
       "                background: #f3f1ff;\n",
       "            }\n",
       "            /* Tooltip container */\n",
       "            .djtooltip {\n",
       "            }\n",
       "            /* Tooltip text */\n",
       "            .djtooltip .djtooltiptext {\n",
       "                visibility: hidden;\n",
       "                width: 120px;\n",
       "                background-color: black;\n",
       "                color: #fff;\n",
       "                text-align: center;\n",
       "                padding: 5px 0;\n",
       "                border-radius: 6px;\n",
       "                /* Position the tooltip text - see examples below! */\n",
       "                position: absolute;\n",
       "                z-index: 1;\n",
       "            }\n",
       "            #primary {\n",
       "                font-weight: bold;\n",
       "                color: black;\n",
       "            }\n",
       "\n",
       "            #nonprimary {\n",
       "                font-weight: normal;\n",
       "                color: white;\n",
       "            }\n",
       "\n",
       "            /* Show the tooltip text when you mouse over the tooltip container */\n",
       "            .djtooltip:hover .djtooltiptext {\n",
       "                visibility: visible;\n",
       "            }\n",
       "        </style>\n",
       "        \n",
       "        <b>Trained models</b>\n",
       "            <div style=\"max-height:1000px;max-width:1500px;overflow:auto;\">\n",
       "            <table border=\"1\" class=\"Relation\">\n",
       "                <thead> <tr style=\"text-align: right;\"> <th> <div class=\"djtooltip\">\n",
       "                                <p id=\"primary\">model_fn</p>\n",
       "                                <span class=\"djtooltiptext\">name of the model function</span>\n",
       "                            </div></th><th><div class=\"djtooltip\">\n",
       "                                <p id=\"primary\">model_hash</p>\n",
       "                                <span class=\"djtooltiptext\">hash of the model configuration</span>\n",
       "                            </div></th><th><div class=\"djtooltip\">\n",
       "                                <p id=\"primary\">dataset_fn</p>\n",
       "                                <span class=\"djtooltiptext\">name of the dataset loader function</span>\n",
       "                            </div></th><th><div class=\"djtooltip\">\n",
       "                                <p id=\"primary\">dataset_hash</p>\n",
       "                                <span class=\"djtooltiptext\">hash of the configuration object</span>\n",
       "                            </div></th><th><div class=\"djtooltip\">\n",
       "                                <p id=\"primary\">trainer_fn</p>\n",
       "                                <span class=\"djtooltiptext\">name of the Trainer loader function</span>\n",
       "                            </div></th><th><div class=\"djtooltip\">\n",
       "                                <p id=\"primary\">trainer_hash</p>\n",
       "                                <span class=\"djtooltiptext\">hash of the configuration object</span>\n",
       "                            </div></th><th><div class=\"djtooltip\">\n",
       "                                <p id=\"primary\">seed</p>\n",
       "                                <span class=\"djtooltiptext\">Random seed that is passed to the model- and dataset-builder</span>\n",
       "                            </div></th><th><div class=\"djtooltip\">\n",
       "                                <p id=\"nonprimary\">comment</p>\n",
       "                                <span class=\"djtooltiptext\">short description</span>\n",
       "                            </div></th><th><div class=\"djtooltip\">\n",
       "                                <p id=\"nonprimary\">score</p>\n",
       "                                <span class=\"djtooltiptext\">loss</span>\n",
       "                            </div></th><th><div class=\"djtooltip\">\n",
       "                                <p id=\"nonprimary\">output</p>\n",
       "                                <span class=\"djtooltiptext\">trainer object's output</span>\n",
       "                            </div></th><th><div class=\"djtooltip\">\n",
       "                                <p id=\"nonprimary\">fabrikant_name</p>\n",
       "                                <span class=\"djtooltiptext\">Name of the contributor that added this entry</span>\n",
       "                            </div></th><th><div class=\"djtooltip\">\n",
       "                                <p id=\"nonprimary\">trainedmodel_ts</p>\n",
       "                                <span class=\"djtooltiptext\">UTZ timestamp at time of insertion</span>\n",
       "                            </div> </th> </tr> </thead>\n",
       "                <tbody> <tr> <td>nndichromacy.models.se_core_full_gauss_readout</td>\n",
       "<td>a09d55344b5793137349b8ca5d17d46d</td>\n",
       "<td>nndichromacy.datasets.static_loaders</td>\n",
       "<td>d6048152f199d06e47cc7245a39bd671</td>\n",
       "<td>nndichromacy.training.standart_trainer</td>\n",
       "<td>0d06f037501e129d11aa288d8f22788f</td>\n",
       "<td>1000</td>\n",
       "<td>standard_trainer.full_gauss_cortex.23656-27-8</td>\n",
       "<td>0.234982</td>\n",
       "<td>=BLOB=</td>\n",
       "<td>kwilleke</td>\n",
       "<td>2020-06-12 11:10:32</td></tr><tr><td>nndichromacy.models.se_core_full_gauss_readout</td>\n",
       "<td>a09d55344b5793137349b8ca5d17d46d</td>\n",
       "<td>nndichromacy.datasets.static_loaders</td>\n",
       "<td>d6048152f199d06e47cc7245a39bd671</td>\n",
       "<td>nndichromacy.training.standart_trainer</td>\n",
       "<td>0d06f037501e129d11aa288d8f22788f</td>\n",
       "<td>2000</td>\n",
       "<td>standard_trainer.full_gauss_cortex.23656-27-8</td>\n",
       "<td>0.225349</td>\n",
       "<td>=BLOB=</td>\n",
       "<td>kwilleke</td>\n",
       "<td>2020-06-12 11:13:39</td></tr><tr><td>nndichromacy.models.se_core_full_gauss_readout</td>\n",
       "<td>a09d55344b5793137349b8ca5d17d46d</td>\n",
       "<td>nndichromacy.datasets.static_loaders</td>\n",
       "<td>d6048152f199d06e47cc7245a39bd671</td>\n",
       "<td>nndichromacy.training.standart_trainer</td>\n",
       "<td>0d06f037501e129d11aa288d8f22788f</td>\n",
       "<td>3000</td>\n",
       "<td>standard_trainer.full_gauss_cortex.23656-27-8</td>\n",
       "<td>0.233924</td>\n",
       "<td>=BLOB=</td>\n",
       "<td>kwilleke</td>\n",
       "<td>2020-06-12 11:16:52</td></tr><tr><td>nndichromacy.models.se_core_full_gauss_readout</td>\n",
       "<td>a09d55344b5793137349b8ca5d17d46d</td>\n",
       "<td>nndichromacy.datasets.static_loaders</td>\n",
       "<td>d6048152f199d06e47cc7245a39bd671</td>\n",
       "<td>nndichromacy.training.standart_trainer</td>\n",
       "<td>0d06f037501e129d11aa288d8f22788f</td>\n",
       "<td>4000</td>\n",
       "<td>standard_trainer.full_gauss_cortex.23656-27-8</td>\n",
       "<td>0.231656</td>\n",
       "<td>=BLOB=</td>\n",
       "<td>kwilleke</td>\n",
       "<td>2020-06-12 11:20:23</td></tr><tr><td>nndichromacy.models.se_core_full_gauss_readout</td>\n",
       "<td>a09d55344b5793137349b8ca5d17d46d</td>\n",
       "<td>nndichromacy.datasets.static_loaders</td>\n",
       "<td>d6048152f199d06e47cc7245a39bd671</td>\n",
       "<td>nndichromacy.training.standart_trainer</td>\n",
       "<td>0d06f037501e129d11aa288d8f22788f</td>\n",
       "<td>5000</td>\n",
       "<td>standard_trainer.full_gauss_cortex.23656-27-8</td>\n",
       "<td>0.225965</td>\n",
       "<td>=BLOB=</td>\n",
       "<td>kwilleke</td>\n",
       "<td>2020-06-12 11:23:27</td> </tr> </tbody>\n",
       "            </table>\n",
       "            \n",
       "            <p>Total: 5</p></div>\n",
       "            "
      ],
      "text/plain": [
       "*model_fn      *model_hash    *dataset_fn    *dataset_hash  *trainer_fn    *trainer_hash  *seed    comment        score        output     fabrikant_name trainedmodel_t\n",
       "+------------+ +------------+ +------------+ +------------+ +------------+ +------------+ +------+ +------------+ +----------+ +--------+ +------------+ +------------+\n",
       "nndichromacy.m a09d55344b5793 nndichromacy.d d6048152f199d0 nndichromacy.t 0d06f037501e12 1000     standard_train 0.234982     =BLOB=     kwilleke       2020-06-12 11:\n",
       "nndichromacy.m a09d55344b5793 nndichromacy.d d6048152f199d0 nndichromacy.t 0d06f037501e12 2000     standard_train 0.225349     =BLOB=     kwilleke       2020-06-12 11:\n",
       "nndichromacy.m a09d55344b5793 nndichromacy.d d6048152f199d0 nndichromacy.t 0d06f037501e12 3000     standard_train 0.233924     =BLOB=     kwilleke       2020-06-12 11:\n",
       "nndichromacy.m a09d55344b5793 nndichromacy.d d6048152f199d0 nndichromacy.t 0d06f037501e12 4000     standard_train 0.231656     =BLOB=     kwilleke       2020-06-12 11:\n",
       "nndichromacy.m a09d55344b5793 nndichromacy.d d6048152f199d0 nndichromacy.t 0d06f037501e12 5000     standard_train 0.225965     =BLOB=     kwilleke       2020-06-12 11:\n",
       " (Total: 5)"
      ]
     },
     "execution_count": 5,
     "metadata": {},
     "output_type": "execute_result"
    }
   ],
   "source": [
    "TrainedModel() & key"
   ]
  },
  {
   "cell_type": "code",
   "execution_count": null,
   "metadata": {},
   "outputs": [],
   "source": [
    "# creating the ensemble\n",
    "TrainedEnsembleModel().create_ensemble(key=key, comment='default')"
   ]
  },
  {
   "cell_type": "code",
   "execution_count": 12,
   "metadata": {},
   "outputs": [
    {
     "data": {
      "text/html": [
       "\n",
       "        \n",
       "        <style type=\"text/css\">\n",
       "            .Relation{\n",
       "                border-collapse:collapse;\n",
       "            }\n",
       "            .Relation th{\n",
       "                background: #A0A0A0; color: #ffffff; padding:4px; border:#f0e0e0 1px solid;\n",
       "                font-weight: normal; font-family: monospace; font-size: 100%;\n",
       "            }\n",
       "            .Relation td{\n",
       "                padding:4px; border:#f0e0e0 1px solid; font-size:100%;\n",
       "            }\n",
       "            .Relation tr:nth-child(odd){\n",
       "                background: #ffffff;\n",
       "            }\n",
       "            .Relation tr:nth-child(even){\n",
       "                background: #f3f1ff;\n",
       "            }\n",
       "            /* Tooltip container */\n",
       "            .djtooltip {\n",
       "            }\n",
       "            /* Tooltip text */\n",
       "            .djtooltip .djtooltiptext {\n",
       "                visibility: hidden;\n",
       "                width: 120px;\n",
       "                background-color: black;\n",
       "                color: #fff;\n",
       "                text-align: center;\n",
       "                padding: 5px 0;\n",
       "                border-radius: 6px;\n",
       "                /* Position the tooltip text - see examples below! */\n",
       "                position: absolute;\n",
       "                z-index: 1;\n",
       "            }\n",
       "            #primary {\n",
       "                font-weight: bold;\n",
       "                color: black;\n",
       "            }\n",
       "\n",
       "            #nonprimary {\n",
       "                font-weight: normal;\n",
       "                color: white;\n",
       "            }\n",
       "\n",
       "            /* Show the tooltip text when you mouse over the tooltip container */\n",
       "            .djtooltip:hover .djtooltiptext {\n",
       "                visibility: visible;\n",
       "            }\n",
       "        </style>\n",
       "        \n",
       "        <b>contains assignments of trained models to a specific ensemble id</b>\n",
       "            <div style=\"max-height:1000px;max-width:1500px;overflow:auto;\">\n",
       "            <table border=\"1\" class=\"Relation\">\n",
       "                <thead> <tr style=\"text-align: right;\"> <th> <div class=\"djtooltip\">\n",
       "                                <p id=\"primary\">dataset_fn</p>\n",
       "                                <span class=\"djtooltiptext\">name of the dataset loader function</span>\n",
       "                            </div></th><th><div class=\"djtooltip\">\n",
       "                                <p id=\"primary\">dataset_hash</p>\n",
       "                                <span class=\"djtooltiptext\">hash of the configuration object</span>\n",
       "                            </div></th><th><div class=\"djtooltip\">\n",
       "                                <p id=\"primary\">ensemble_hash</p>\n",
       "                                <span class=\"djtooltiptext\">the hash of the ensemble</span>\n",
       "                            </div></th><th><div class=\"djtooltip\">\n",
       "                                <p id=\"primary\">model_fn</p>\n",
       "                                <span class=\"djtooltiptext\">name of the model function</span>\n",
       "                            </div></th><th><div class=\"djtooltip\">\n",
       "                                <p id=\"primary\">model_hash</p>\n",
       "                                <span class=\"djtooltiptext\">hash of the model configuration</span>\n",
       "                            </div></th><th><div class=\"djtooltip\">\n",
       "                                <p id=\"primary\">trainer_fn</p>\n",
       "                                <span class=\"djtooltiptext\">name of the Trainer loader function</span>\n",
       "                            </div></th><th><div class=\"djtooltip\">\n",
       "                                <p id=\"primary\">trainer_hash</p>\n",
       "                                <span class=\"djtooltiptext\">hash of the configuration object</span>\n",
       "                            </div></th><th><div class=\"djtooltip\">\n",
       "                                <p id=\"primary\">seed</p>\n",
       "                                <span class=\"djtooltiptext\">Random seed that is passed to the model- and dataset-builder</span>\n",
       "                            </div> </th> </tr> </thead>\n",
       "                <tbody> <tr> <td>nndichromacy.datasets.static_loaders</td>\n",
       "<td>d6048152f199d06e47cc7245a39bd671</td>\n",
       "<td>f03c05a2673692335163e305915c0eae</td>\n",
       "<td>nndichromacy.models.se_core_full_gauss_readout</td>\n",
       "<td>a09d55344b5793137349b8ca5d17d46d</td>\n",
       "<td>nndichromacy.training.standart_trainer</td>\n",
       "<td>0d06f037501e129d11aa288d8f22788f</td>\n",
       "<td>1000</td></tr><tr><td>nndichromacy.datasets.static_loaders</td>\n",
       "<td>d6048152f199d06e47cc7245a39bd671</td>\n",
       "<td>f03c05a2673692335163e305915c0eae</td>\n",
       "<td>nndichromacy.models.se_core_full_gauss_readout</td>\n",
       "<td>a09d55344b5793137349b8ca5d17d46d</td>\n",
       "<td>nndichromacy.training.standart_trainer</td>\n",
       "<td>0d06f037501e129d11aa288d8f22788f</td>\n",
       "<td>2000</td></tr><tr><td>nndichromacy.datasets.static_loaders</td>\n",
       "<td>d6048152f199d06e47cc7245a39bd671</td>\n",
       "<td>f03c05a2673692335163e305915c0eae</td>\n",
       "<td>nndichromacy.models.se_core_full_gauss_readout</td>\n",
       "<td>a09d55344b5793137349b8ca5d17d46d</td>\n",
       "<td>nndichromacy.training.standart_trainer</td>\n",
       "<td>0d06f037501e129d11aa288d8f22788f</td>\n",
       "<td>3000</td></tr><tr><td>nndichromacy.datasets.static_loaders</td>\n",
       "<td>d6048152f199d06e47cc7245a39bd671</td>\n",
       "<td>f03c05a2673692335163e305915c0eae</td>\n",
       "<td>nndichromacy.models.se_core_full_gauss_readout</td>\n",
       "<td>a09d55344b5793137349b8ca5d17d46d</td>\n",
       "<td>nndichromacy.training.standart_trainer</td>\n",
       "<td>0d06f037501e129d11aa288d8f22788f</td>\n",
       "<td>4000</td></tr><tr><td>nndichromacy.datasets.static_loaders</td>\n",
       "<td>d6048152f199d06e47cc7245a39bd671</td>\n",
       "<td>f03c05a2673692335163e305915c0eae</td>\n",
       "<td>nndichromacy.models.se_core_full_gauss_readout</td>\n",
       "<td>a09d55344b5793137349b8ca5d17d46d</td>\n",
       "<td>nndichromacy.training.standart_trainer</td>\n",
       "<td>0d06f037501e129d11aa288d8f22788f</td>\n",
       "<td>5000</td> </tr> </tbody>\n",
       "            </table>\n",
       "            \n",
       "            <p>Total: 5</p></div>\n",
       "            "
      ],
      "text/plain": [
       "*dataset_fn    *dataset_hash  *ensemble_hash *model_fn      *model_hash    *trainer_fn    *trainer_hash  *seed   \n",
       "+------------+ +------------+ +------------+ +------------+ +------------+ +------------+ +------------+ +------+\n",
       "nndichromacy.d d6048152f199d0 f03c05a2673692 nndichromacy.m a09d55344b5793 nndichromacy.t 0d06f037501e12 1000    \n",
       "nndichromacy.d d6048152f199d0 f03c05a2673692 nndichromacy.m a09d55344b5793 nndichromacy.t 0d06f037501e12 2000    \n",
       "nndichromacy.d d6048152f199d0 f03c05a2673692 nndichromacy.m a09d55344b5793 nndichromacy.t 0d06f037501e12 3000    \n",
       "nndichromacy.d d6048152f199d0 f03c05a2673692 nndichromacy.m a09d55344b5793 nndichromacy.t 0d06f037501e12 4000    \n",
       "nndichromacy.d d6048152f199d0 f03c05a2673692 nndichromacy.m a09d55344b5793 nndichromacy.t 0d06f037501e12 5000    \n",
       " (Total: 5)"
      ]
     },
     "execution_count": 12,
     "metadata": {},
     "output_type": "execute_result"
    }
   ],
   "source": [
    "# Check whether the ensemble has the correct amount of members:\n",
    "TrainedEnsembleModel.Member() & key"
   ]
  },
  {
   "cell_type": "markdown",
   "metadata": {},
   "source": [
    "# Populating the MEISelector table, to match the unit IDs and the units within the model"
   ]
  },
  {
   "cell_type": "code",
   "execution_count": 13,
   "metadata": {},
   "outputs": [
    {
     "name": "stderr",
     "output_type": "stream",
     "text": [
      "  0%|          | 0/1 [00:00<?, ?it/s]"
     ]
    },
    {
     "name": "stdout",
     "output_type": "stream",
     "text": [
      "static23656-27-8-preproc0 exists already. Not unpacking static23656-27-8-preproc0.zip\n"
     ]
    },
    {
     "name": "stderr",
     "output_type": "stream",
     "text": [
      "100%|██████████| 1/1 [00:00<00:00,  2.14it/s]\n"
     ]
    }
   ],
   "source": [
    "MEISelector().populate(key, display_progress=True)"
   ]
  },
  {
   "cell_type": "markdown",
   "metadata": {},
   "source": [
    "# Selecting the MEIMethod"
   ]
  },
  {
   "cell_type": "markdown",
   "metadata": {},
   "source": [
    "#### The default here is for normalized images"
   ]
  },
  {
   "cell_type": "code",
   "execution_count": 17,
   "metadata": {},
   "outputs": [
    {
     "data": {
      "text/html": [
       "\n",
       "        \n",
       "        <style type=\"text/css\">\n",
       "            .Relation{\n",
       "                border-collapse:collapse;\n",
       "            }\n",
       "            .Relation th{\n",
       "                background: #A0A0A0; color: #ffffff; padding:4px; border:#f0e0e0 1px solid;\n",
       "                font-weight: normal; font-family: monospace; font-size: 100%;\n",
       "            }\n",
       "            .Relation td{\n",
       "                padding:4px; border:#f0e0e0 1px solid; font-size:100%;\n",
       "            }\n",
       "            .Relation tr:nth-child(odd){\n",
       "                background: #ffffff;\n",
       "            }\n",
       "            .Relation tr:nth-child(even){\n",
       "                background: #f3f1ff;\n",
       "            }\n",
       "            /* Tooltip container */\n",
       "            .djtooltip {\n",
       "            }\n",
       "            /* Tooltip text */\n",
       "            .djtooltip .djtooltiptext {\n",
       "                visibility: hidden;\n",
       "                width: 120px;\n",
       "                background-color: black;\n",
       "                color: #fff;\n",
       "                text-align: center;\n",
       "                padding: 5px 0;\n",
       "                border-radius: 6px;\n",
       "                /* Position the tooltip text - see examples below! */\n",
       "                position: absolute;\n",
       "                z-index: 1;\n",
       "            }\n",
       "            #primary {\n",
       "                font-weight: bold;\n",
       "                color: black;\n",
       "            }\n",
       "\n",
       "            #nonprimary {\n",
       "                font-weight: normal;\n",
       "                color: white;\n",
       "            }\n",
       "\n",
       "            /* Show the tooltip text when you mouse over the tooltip container */\n",
       "            .djtooltip:hover .djtooltiptext {\n",
       "                visibility: visible;\n",
       "            }\n",
       "        </style>\n",
       "        \n",
       "        <b>contains methods for generating MEIs and their configurations.</b>\n",
       "            <div style=\"max-height:1000px;max-width:1500px;overflow:auto;\">\n",
       "            <table border=\"1\" class=\"Relation\">\n",
       "                <thead> <tr style=\"text-align: right;\"> <th> <div class=\"djtooltip\">\n",
       "                                <p id=\"primary\">method_fn</p>\n",
       "                                <span class=\"djtooltiptext\">name of the method function</span>\n",
       "                            </div></th><th><div class=\"djtooltip\">\n",
       "                                <p id=\"primary\">method_hash</p>\n",
       "                                <span class=\"djtooltiptext\">hash of the method config</span>\n",
       "                            </div></th><th><div class=\"djtooltip\">\n",
       "                                <p id=\"nonprimary\">method_config</p>\n",
       "                                <span class=\"djtooltiptext\">method configuration object</span>\n",
       "                            </div></th><th><div class=\"djtooltip\">\n",
       "                                <p id=\"nonprimary\">method_comment</p>\n",
       "                                <span class=\"djtooltiptext\">a short comment describing the method</span>\n",
       "                            </div></th><th><div class=\"djtooltip\">\n",
       "                                <p id=\"nonprimary\">method_ts</p>\n",
       "                                <span class=\"djtooltiptext\">UTZ timestamp at time of insertion</span>\n",
       "                            </div> </th> </tr> </thead>\n",
       "                <tbody> <tr> <td>featurevis.methods.gradient_ascent</td>\n",
       "<td>e203277aa2540dd9f907344ed5babb21</td>\n",
       "<td>=BLOB=</td>\n",
       "<td>std=0.1, gauss_blur=1, lr=1, iter=500</td>\n",
       "<td>2020-05-30 11:02:19</td> </tr> </tbody>\n",
       "            </table>\n",
       "            \n",
       "            <p>Total: 1</p></div>\n",
       "            "
      ],
      "text/plain": [
       "*method_fn     *method_hash   method_con method_comment method_ts     \n",
       "+------------+ +------------+ +--------+ +------------+ +------------+\n",
       "featurevis.met e203277aa2540d =BLOB=     std=0.1, gauss 2020-05-30 11:\n",
       " (Total: 1)"
      ]
     },
     "execution_count": 17,
     "metadata": {},
     "output_type": "execute_result"
    }
   ],
   "source": [
    "method_hash = 'e203277aa2540dd9f907344ed5babb21'\n",
    "\n",
    "MEIMethod & dict(method_hash=method_hash)"
   ]
  },
  {
   "cell_type": "markdown",
   "metadata": {},
   "source": [
    "# Populate the MEI table"
   ]
  },
  {
   "cell_type": "code",
   "execution_count": null,
   "metadata": {},
   "outputs": [
    {
     "name": "stderr",
     "output_type": "stream",
     "text": [
      "  0%|          | 0/1085 [00:00<?, ?it/s]"
     ]
    },
    {
     "name": "stdout",
     "output_type": "stream",
     "text": [
      "static23656-27-8-preproc0 exists already. Not unpacking static23656-27-8-preproc0.zip\n",
      "static23656-27-8-preproc0 exists already. Not unpacking static23656-27-8-preproc0.zip\n",
      "static23656-27-8-preproc0 exists already. Not unpacking static23656-27-8-preproc0.zip\n",
      "static23656-27-8-preproc0 exists already. Not unpacking static23656-27-8-preproc0.zip\n",
      "static23656-27-8-preproc0 exists already. Not unpacking static23656-27-8-preproc0.zip\n"
     ]
    },
    {
     "name": "stderr",
     "output_type": "stream",
     "text": [
      "  2%|▏         | 17/1085 [03:53<4:03:22, 13.67s/it]"
     ]
    }
   ],
   "source": [
    "mei_key = dict(method_hash=method_hash, dataset_hash=dataset_hash)\n",
    "\n",
    "# make sure that there is only one ensemble for the dataset\n",
    "assert len(TrainedEnsembleModel & dict(dataset_hash=dataset_hash)) == 1, f\"Multiple Ensembles found for dataset_hash: {dataset_hash}\"\n",
    "\n",
    "# if there are multiple ensembles for one dataset, then the ensemble_hash has to be specified in the key, for example:\n",
    "# mei_key = dict(method_hash=method_hash, dataset_hash=dataset_hash, ensemble_hash=some_hash)\n",
    "\n",
    "MEI.populate(mei_key, display_progress=True, order='random', reserve_jobs=True)"
   ]
  },
  {
   "cell_type": "code",
   "execution_count": null,
   "metadata": {},
   "outputs": [],
   "source": []
  }
 ],
 "metadata": {
  "kernelspec": {
   "display_name": "Python 3",
   "language": "python",
   "name": "python3"
  },
  "language_info": {
   "codemirror_mode": {
    "name": "ipython",
    "version": 3
   },
   "file_extension": ".py",
   "mimetype": "text/x-python",
   "name": "python",
   "nbconvert_exporter": "python",
   "pygments_lexer": "ipython3",
   "version": "3.8.0"
  }
 },
 "nbformat": 4,
 "nbformat_minor": 4
}
