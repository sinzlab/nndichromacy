{
 "cells": [
  {
   "cell_type": "markdown",
   "metadata": {},
   "source": [
    "# Plotting Script for Plotting B/G color MEI bias "
   ]
  },
  {
   "cell_type": "code",
   "execution_count": 66,
   "metadata": {},
   "outputs": [
    {
     "name": "stdout",
     "output_type": "stream",
     "text": [
      "The autoreload extension is already loaded. To reload it, use:\n",
      "  %reload_ext autoreload\n"
     ]
    }
   ],
   "source": [
    "%load_ext autoreload\n",
    "%autoreload 2\n",
    "\n",
    "import datajoint as dj\n",
    "\n",
    "dj.config[\"display.limit\"] = 50\n",
    "dj.config[\"enable_python_native_blobs\"] = True\n",
    "dj.config['schema_name'] = \"nnfabrik_color_mei\"\n",
    "schema = dj.schema(\"nnfabrik_color_mei\")\n",
    "\n",
    "from matplotlib import pyplot as plt\n",
    "from torch import load\n",
    "\n",
    "from nnfabrik.main import *\n",
    "\n",
    "import nnfabrik\n",
    "from collections import namedtuple\n",
    "from nnfabrik import main, builder\n",
    "import os\n",
    "from os import listdir\n",
    "from os.path import isfile, join\n",
    "import torch\n",
    "import matplotlib.pyplot as plt\n",
    "import seaborn as sns\n",
    "import numpy as np\n",
    "from tqdm import tqdm\n",
    "\n",
    "from neuralpredictors.data.datasets import StaticImageSet, FileTreeDataset\n",
    "from nndichromacy.tables.from_nnfabrik import TrainedModel, DataInfo\n",
    "from dataport.bcm.static import PreprocessedMouseData\n",
    "from nnvision.utility.measures import get_explainable_var\n",
    "\n",
    "from nndichromacy.tables.from_mei import MEI, TrainedEnsembleModel, MEISelector, MEIMethod, MEISeed"
   ]
  },
  {
   "cell_type": "markdown",
   "metadata": {},
   "source": [
    "### Select a dataset and method hash. If there is more than one ensemble for that dataset, chose an ensemble_hash instead."
   ]
  },
  {
   "cell_type": "code",
   "execution_count": 67,
   "metadata": {},
   "outputs": [],
   "source": [
    "mei_key = dict(method_hash='e203277aa2540dd9f907344ed5babb21', dataset_hash='d6048152f199d06e47cc7245a39bd671', mei_seed=1)"
   ]
  },
  {
   "cell_type": "code",
   "execution_count": 78,
   "metadata": {},
   "outputs": [
    {
     "data": {
      "text/html": [
       "\n",
       "        \n",
       "        <style type=\"text/css\">\n",
       "            .Relation{\n",
       "                border-collapse:collapse;\n",
       "            }\n",
       "            .Relation th{\n",
       "                background: #A0A0A0; color: #ffffff; padding:4px; border:#f0e0e0 1px solid;\n",
       "                font-weight: normal; font-family: monospace; font-size: 100%;\n",
       "            }\n",
       "            .Relation td{\n",
       "                padding:4px; border:#f0e0e0 1px solid; font-size:100%;\n",
       "            }\n",
       "            .Relation tr:nth-child(odd){\n",
       "                background: #ffffff;\n",
       "            }\n",
       "            .Relation tr:nth-child(even){\n",
       "                background: #f3f1ff;\n",
       "            }\n",
       "            /* Tooltip container */\n",
       "            .djtooltip {\n",
       "            }\n",
       "            /* Tooltip text */\n",
       "            .djtooltip .djtooltiptext {\n",
       "                visibility: hidden;\n",
       "                width: 120px;\n",
       "                background-color: black;\n",
       "                color: #fff;\n",
       "                text-align: center;\n",
       "                padding: 5px 0;\n",
       "                border-radius: 6px;\n",
       "                /* Position the tooltip text - see examples below! */\n",
       "                position: absolute;\n",
       "                z-index: 1;\n",
       "            }\n",
       "            #primary {\n",
       "                font-weight: bold;\n",
       "                color: black;\n",
       "            }\n",
       "\n",
       "            #nonprimary {\n",
       "                font-weight: normal;\n",
       "                color: white;\n",
       "            }\n",
       "\n",
       "            /* Show the tooltip text when you mouse over the tooltip container */\n",
       "            .djtooltip:hover .djtooltiptext {\n",
       "                visibility: visible;\n",
       "            }\n",
       "        </style>\n",
       "        \n",
       "        <b></b>\n",
       "            <div style=\"max-height:1000px;max-width:1500px;overflow:auto;\">\n",
       "            <table border=\"1\" class=\"Relation\">\n",
       "                <thead> <tr style=\"text-align: right;\"> <th> <div class=\"djtooltip\">\n",
       "                                <p id=\"primary\">dataset_fn</p>\n",
       "                                <span class=\"djtooltiptext\">name of the dataset loader function</span>\n",
       "                            </div></th><th><div class=\"djtooltip\">\n",
       "                                <p id=\"primary\">dataset_hash</p>\n",
       "                                <span class=\"djtooltiptext\">hash of the configuration object</span>\n",
       "                            </div></th><th><div class=\"djtooltip\">\n",
       "                                <p id=\"nonprimary\">dataset_config</p>\n",
       "                                <span class=\"djtooltiptext\">dataset configuration object</span>\n",
       "                            </div></th><th><div class=\"djtooltip\">\n",
       "                                <p id=\"nonprimary\">dataset_fabrikant</p>\n",
       "                                <span class=\"djtooltiptext\">Name of the contributor that added this entry</span>\n",
       "                            </div></th><th><div class=\"djtooltip\">\n",
       "                                <p id=\"nonprimary\">dataset_comment</p>\n",
       "                                <span class=\"djtooltiptext\">short description</span>\n",
       "                            </div></th><th><div class=\"djtooltip\">\n",
       "                                <p id=\"nonprimary\">dataset_ts</p>\n",
       "                                <span class=\"djtooltiptext\">UTZ timestamp at time of insertion</span>\n",
       "                            </div> </th> </tr> </thead>\n",
       "                <tbody> <tr> <td>nndichromacy.datasets.static_loaders</td>\n",
       "<td>d6048152f199d06e47cc7245a39bd671</td>\n",
       "<td>=BLOB=</td>\n",
       "<td>kwilleke</td>\n",
       "<td>23656-27-8</td>\n",
       "<td>2020-06-12 11:03:33</td> </tr> </tbody>\n",
       "            </table>\n",
       "            \n",
       "            <p>Total: 1</p></div>\n",
       "            "
      ],
      "text/plain": [
       "*dataset_fn    *dataset_hash  dataset_co dataset_fabrik dataset_commen dataset_ts    \n",
       "+------------+ +------------+ +--------+ +------------+ +------------+ +------------+\n",
       "nndichromacy.d d6048152f199d0 =BLOB=     kwilleke       23656-27-8     2020-06-12 11:\n",
       " (Total: 1)"
      ]
     },
     "execution_count": 78,
     "metadata": {},
     "output_type": "execute_result"
    }
   ],
   "source": [
    "Dataset & mei_key"
   ]
  },
  {
   "cell_type": "code",
   "execution_count": 68,
   "metadata": {},
   "outputs": [
    {
     "data": {
      "text/plain": [
       "1085"
      ]
     },
     "execution_count": 68,
     "metadata": {},
     "output_type": "execute_result"
    }
   ],
   "source": [
    "len(MEI & mei_key)"
   ]
  },
  {
   "cell_type": "code",
   "execution_count": 74,
   "metadata": {},
   "outputs": [],
   "source": [
    "mei_paths = (MEI() & mei_key).fetch(\"mei\")\n",
    "MEIs = np.stack([torch.load(path).detach().cpu().numpy().squeeze() for path in mei_paths])\n"
   ]
  },
  {
   "cell_type": "code",
   "execution_count": 75,
   "metadata": {},
   "outputs": [],
   "source": [
    "mei_norm = np.empty((MEIs.shape[0], 2))\n",
    "for i, mei in enumerate(MEIs):\n",
    "    mei_norm[i, 0] = (np.linalg.norm(mei[0,::]))\n",
    "    mei_norm[i, 1] = (np.linalg.norm(mei[1,::]))"
   ]
  },
  {
   "cell_type": "markdown",
   "metadata": {},
   "source": [
    "# Unnormalized Plot"
   ]
  },
  {
   "cell_type": "code",
   "execution_count": 76,
   "metadata": {},
   "outputs": [
    {
     "data": {
      "image/png": "[encoded data removed]",
      "text/plain": [
       "<Figure size 432x432 with 1 Axes>"
      ]
     },
     "metadata": {
      "needs_background": "light"
     },
     "output_type": "display_data"
    }
   ],
   "source": [
    "# subplots dataset_keys\n",
    "fig, ax = plt.subplots(1,1,figsize=(6,6))\n",
    "sns.set_context('talk', font_scale=1)\n",
    "cmap = sns.blend_palette(['#9b59b6', '#2ecc71',], as_cmap=True)\n",
    "\n",
    "l_lim = mei_norm.min()\n",
    "u_lim = mei_norm.max()\n",
    "x = np.linspace(0, np.pi/2, 500)\n",
    "ax.scatter(np.cos(x)*6.8, np.sin(x)*6.8, c=np.cos(x), cmap=cmap, s=30, vmin=0, vmax=1)\n",
    "ax.scatter(mei_norm[:,0], mei_norm[:,1], edgecolors='w', s=100, linewidths=.5)\n",
    "plt.plot([4, 6], [4, 6], 'k:')\n",
    "ax.set_aspect('equal', 'box')\n",
    "ax.set_xlim(1,7)\n",
    "ax.set_ylim(1,7)\n",
    "ax.set_xlabel(\"G MEI power\")\n",
    "ax.set_ylabel(\"UV MEI power\")\n",
    "sns.despine(trim=True, offset=10)\n",
    "plt.tight_layout()\n",
    "#plt.savefig(\"Color_Bias_Checkerboard.png\", dpi=100, bbox_inches='tight')"
   ]
  },
  {
   "cell_type": "markdown",
   "metadata": {},
   "source": [
    "# Normalized Plot"
   ]
  },
  {
   "cell_type": "code",
   "execution_count": 77,
   "metadata": {},
   "outputs": [],
   "source": [
    "mei_norm_zscore = mei_norm / np.linalg.norm(mei_norm, axis=1).mean()"
   ]
  },
  {
   "cell_type": "code",
   "execution_count": 80,
   "metadata": {},
   "outputs": [
    {
     "data": {
      "image/png": "[encoded data removed]",
      "text/plain": [
       "<Figure size 432x432 with 1 Axes>"
      ]
     },
     "metadata": {
      "needs_background": "light"
     },
     "output_type": "display_data"
    }
   ],
   "source": [
    "# subplots dataset_keys\n",
    "fig, ax = plt.subplots(1,1,figsize=(6,6))\n",
    "sns.set_context('talk', font_scale=1)\n",
    "cmap = sns.blend_palette(['#9b59b6', '#2ecc71',], as_cmap=True)\n",
    "\n",
    "l_lim = mei_norm_zscore.min()\n",
    "u_lim = mei_norm_zscore.max()\n",
    "x = np.linspace(0, np.pi/2, 500)\n",
    "ax.scatter(np.cos(x), np.sin(x), c=np.cos(x), cmap=cmap, s=30, vmin=0, vmax=1)\n",
    "ax.scatter(mei_norm_zscore[:,0], mei_norm_zscore[:,1], edgecolors='w', s=100, linewidths=.5)\n",
    "ax.plot([.6, .8], [.6, .8], 'k:')\n",
    "ax.set_aspect('equal', 'box')\n",
    "ax.set_xlabel(\"G MEI power\")\n",
    "ax.set_ylabel(\"UV MEI power\")\n",
    "sns.despine(trim=True, offset=10)\n",
    "plt.tight_layout()\n",
    "plt.savefig(\"MEI_Bias_23656-27-8.pdf\", dpi=100, bbox_inches='tight')"
   ]
  },
  {
   "cell_type": "markdown",
   "metadata": {},
   "source": [
    "# Cleanup: Remove the fetched mei files"
   ]
  },
  {
   "cell_type": "code",
   "execution_count": 64,
   "metadata": {},
   "outputs": [],
   "source": [
    "for i, path in enumerate(mei_paths):\n",
    "    if os.path.exists(os.path.join(os.getcwd(), path)):\n",
    "        os.remove(os.path.join(os.getcwd(), path))"
   ]
  },
  {
   "cell_type": "code",
   "execution_count": null,
   "metadata": {},
   "outputs": [],
   "source": []
  }
 ],
 "metadata": {
  "kernelspec": {
   "display_name": "Python 3",
   "language": "python",
   "name": "python3"
  },
  "language_info": {
   "codemirror_mode": {
    "name": "ipython",
    "version": 3
   },
   "file_extension": ".py",
   "mimetype": "text/x-python",
   "name": "python",
   "nbconvert_exporter": "python",
   "pygments_lexer": "ipython3",
   "version": "3.8.0"
  }
 },
 "nbformat": 4,
 "nbformat_minor": 4
}
